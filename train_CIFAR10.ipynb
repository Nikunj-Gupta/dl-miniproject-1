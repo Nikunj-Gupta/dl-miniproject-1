{
 "cells": [
  {
   "cell_type": "code",
   "execution_count": 1,
   "id": "46b17a55",
   "metadata": {},
   "outputs": [],
   "source": [
    "from project1_model import ResNet, BasicBlock \n",
    "import numpy as np, torch, torchvision "
   ]
  },
  {
   "cell_type": "code",
   "execution_count": 2,
   "id": "19c0b34f",
   "metadata": {
    "scrolled": false
   },
   "outputs": [
    {
     "name": "stdout",
     "output_type": "stream",
     "text": [
      "Files already downloaded and verified\n",
      "Files already downloaded and verified\n"
     ]
    }
   ],
   "source": [
    "trainingdata = torchvision.datasets.CIFAR10('./CIFAR10/', \n",
    "                                                 train=True, \n",
    "                                                 download=True, \n",
    "                                                 transform=torchvision.transforms.ToTensor()) \n",
    "\n",
    "testdata = torchvision.datasets.CIFAR10('./CIFAR10/', \n",
    "                                             train=False, \n",
    "                                             download=True, \n",
    "                                             transform=torchvision.transforms.ToTensor()) \n"
   ]
  },
  {
   "cell_type": "code",
   "execution_count": 3,
   "id": "bdef4fed",
   "metadata": {},
   "outputs": [
    {
     "name": "stdout",
     "output_type": "stream",
     "text": [
      "50000\n",
      "10000\n"
     ]
    }
   ],
   "source": [
    "print(len(trainingdata))\n",
    "print(len(testdata))\n",
    "\n",
    "trainDataLoader = torch.utils.data.DataLoader(trainingdata, \n",
    "                                              batch_size=64, \n",
    "                                              shuffle=True)\n",
    "\n",
    "testDataLoader = torch.utils.data.DataLoader(testdata, \n",
    "                                             batch_size=64, \n",
    "                                             shuffle=False) \n"
   ]
  },
  {
   "cell_type": "code",
   "execution_count": 4,
   "id": "90ba88f1",
   "metadata": {},
   "outputs": [],
   "source": [
    "LIMIT = 10 \n",
    "images, labels = iter(trainDataLoader).next() \n",
    "images = images[:LIMIT] \n",
    "labels = labels[:LIMIT] "
   ]
  },
  {
   "cell_type": "code",
   "execution_count": 5,
   "id": "8e726d12",
   "metadata": {},
   "outputs": [],
   "source": [
    "net = ResNet(BasicBlock, [2, 2, 2, 2]) \n",
    "Loss = torch.nn.CrossEntropyLoss()\n",
    "optimizer = torch.optim.SGD(net.parameters(), lr=0.01)"
   ]
  },
  {
   "cell_type": "code",
   "execution_count": null,
   "id": "e1ff4ed5",
   "metadata": {},
   "outputs": [],
   "source": [
    "train_loss_history = []\n",
    "test_loss_history = []\n",
    "\n",
    "for epoch in range(2):\n",
    "    train_loss = 0.0\n",
    "    test_loss = 0.0\n",
    "    for i, data in enumerate(trainDataLoader):\n",
    "        images, labels = data\n",
    "        images = images \n",
    "        labels = labels \n",
    "        optimizer.zero_grad()\n",
    "        predicted_output = net(images)\n",
    "        fit = Loss(predicted_output,labels)\n",
    "        fit.backward()\n",
    "        optimizer.step()\n",
    "        train_loss += fit.item()\n",
    "    for i, data in enumerate(testDataLoader):\n",
    "        with torch.no_grad():\n",
    "            images, labels = data\n",
    "            images = images \n",
    "            labels = labels \n",
    "            predicted_output = net(images)\n",
    "            fit = Loss(predicted_output,labels)\n",
    "            test_loss += fit.item()\n",
    "    train_loss = train_loss/len(trainDataLoader)\n",
    "    test_loss = test_loss/len(testDataLoader)\n",
    "    train_loss_history.append(train_loss)\n",
    "    test_loss_history.append(test_loss)\n",
    "    print('Epoch %s, Train loss %s, Test loss %s'%(epoch, train_loss, test_loss))"
   ]
  },
  {
   "cell_type": "code",
   "execution_count": null,
   "id": "fd8fb551",
   "metadata": {},
   "outputs": [],
   "source": []
  }
 ],
 "metadata": {
  "kernelspec": {
   "display_name": "Python 3 (ipykernel)",
   "language": "python",
   "name": "python3"
  },
  "language_info": {
   "codemirror_mode": {
    "name": "ipython",
    "version": 3
   },
   "file_extension": ".py",
   "mimetype": "text/x-python",
   "name": "python",
   "nbconvert_exporter": "python",
   "pygments_lexer": "ipython3",
   "version": "3.9.10"
  }
 },
 "nbformat": 4,
 "nbformat_minor": 5
}
