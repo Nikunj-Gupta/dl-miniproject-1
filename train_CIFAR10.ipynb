{
 "cells": [
  {
   "cell_type": "code",
   "execution_count": 1,
   "id": "46b17a55",
   "metadata": {},
   "outputs": [],
   "source": [
    "from project1_model import ResNet, BasicBlock \n",
    "import numpy as np, torch, torchvision \n",
    "import matplotlib.pyplot as plt\n",
    "%matplotlib inline"
   ]
  },
  {
   "cell_type": "code",
   "execution_count": 2,
   "id": "19c0b34f",
   "metadata": {},
   "outputs": [
    {
     "name": "stdout",
     "output_type": "stream",
     "text": [
      "Files already downloaded and verified\n",
      "Files already downloaded and verified\n"
     ]
    }
   ],
   "source": [
    "trainingdata = torchvision.datasets.CIFAR10('./CIFAR10/', \n",
    "                                                 train=True, \n",
    "                                                 download=True, \n",
    "                                                 transform=torchvision.transforms.ToTensor()) \n",
    "\n",
    "testdata = torchvision.datasets.CIFAR10('./CIFAR10/', \n",
    "                                             train=False, \n",
    "                                             download=True, \n",
    "                                             transform=torchvision.transforms.ToTensor()) \n"
   ]
  },
  {
   "cell_type": "code",
   "execution_count": 3,
   "id": "bdef4fed",
   "metadata": {},
   "outputs": [
    {
     "name": "stdout",
     "output_type": "stream",
     "text": [
      "50000\n",
      "10000\n"
     ]
    }
   ],
   "source": [
    "print(len(trainingdata))\n",
    "print(len(testdata))\n",
    "\n",
    "trainDataLoader = torch.utils.data.DataLoader(trainingdata, \n",
    "                                              batch_size=64, \n",
    "                                              shuffle=True)\n",
    "\n",
    "testDataLoader = torch.utils.data.DataLoader(testdata, \n",
    "                                             batch_size=64, \n",
    "                                             shuffle=False) \n"
   ]
  },
  {
   "cell_type": "code",
   "execution_count": 4,
   "id": "90ba88f1",
   "metadata": {},
   "outputs": [],
   "source": [
    "images, labels = iter(trainDataLoader).next() "
   ]
  },
  {
   "cell_type": "code",
   "execution_count": 5,
   "id": "8e726d12",
   "metadata": {},
   "outputs": [],
   "source": [
    "net = ResNet(BasicBlock, [2, 2, 2, 2]) \n",
    "Loss = torch.nn.CrossEntropyLoss()\n",
    "optimizer = torch.optim.SGD(net.parameters(), lr=0.01)"
   ]
  },
  {
   "cell_type": "code",
   "execution_count": 6,
   "id": "bc06acca",
   "metadata": {},
   "outputs": [],
   "source": [
    "EPOCHS = 2 "
   ]
  },
  {
   "cell_type": "code",
   "execution_count": 7,
   "id": "e1ff4ed5",
   "metadata": {},
   "outputs": [
    {
     "name": "stdout",
     "output_type": "stream",
     "text": [
      "Epoch 0, Train loss 0.056, Test loss 0.255, Accuracy 0.266\n",
      "Epoch 1, Train loss 0.051, Test loss 0.236, Accuracy 0.312\n"
     ]
    }
   ],
   "source": [
    "train_loss_history = []\n",
    "test_loss_history = []\n",
    "accuracy_history = []\n",
    "\n",
    "for epoch in range(EPOCHS):\n",
    "    train_loss = 0.0\n",
    "    test_loss = 0.0\n",
    "    for i, data in enumerate(trainDataLoader):\n",
    "        if i<20: \n",
    "            images, labels = data\n",
    "            images = images \n",
    "            labels = labels \n",
    "            optimizer.zero_grad()\n",
    "            predicted_output = net(images)\n",
    "            fit = Loss(predicted_output,labels)\n",
    "            fit.backward()\n",
    "            optimizer.step()\n",
    "            train_loss += fit.item()\n",
    "    for i, data in enumerate(testDataLoader):\n",
    "        if i<20: \n",
    "            with torch.no_grad():\n",
    "                images, labels = data\n",
    "                images = images \n",
    "                labels = labels \n",
    "                predicted_output = net(images)\n",
    "                fit = Loss(predicted_output,labels)\n",
    "                test_loss += fit.item()\n",
    "    train_loss = train_loss/len(trainDataLoader)\n",
    "    test_loss = test_loss/len(testDataLoader)\n",
    "    train_loss_history.append(train_loss)\n",
    "    test_loss_history.append(test_loss)\n",
    "    _, indices = torch.max(predicted_output, 1)\n",
    "    accuracy = torch.tensor(torch.sum(indices == labels).item() / len(predicted_output))\n",
    "    accuracy_history.append(accuracy)\n",
    "\n",
    "    print('Epoch %s, Train loss %.3f, Test loss %.3f, Accuracy %.3f'%(epoch, train_loss, test_loss, accuracy))"
   ]
  },
  {
   "cell_type": "code",
   "execution_count": 8,
   "id": "5319012d",
   "metadata": {},
   "outputs": [],
   "source": [
    "plt.plot(range(EPOCHS),train_loss_history,'-',linewidth=3,label='Train error')\n",
    "plt.plot(range(EPOCHS),test_loss_history,'-',linewidth=3,label='Test error')\n",
    "plt.xlabel('epoch')\n",
    "plt.ylabel('loss')\n",
    "plt.grid(True)\n",
    "plt.legend()\n",
    "plt.savefig('models/run1/loss_plot')\n",
    "plt.close()"
   ]
  },
  {
   "cell_type": "code",
   "execution_count": 9,
   "id": "b8fb9c10",
   "metadata": {},
   "outputs": [],
   "source": [
    "plt.plot(range(EPOCHS),accuracy_history,'-',linewidth=3,label='Accuracy')\n",
    "plt.xlabel('epoch')\n",
    "plt.ylabel('accuracy')\n",
    "plt.grid(True)\n",
    "plt.legend()\n",
    "plt.savefig('models/run1/accuracy_plot')\n",
    "plt.close()"
   ]
  },
  {
   "cell_type": "code",
   "execution_count": 10,
   "id": "2963f457",
   "metadata": {},
   "outputs": [],
   "source": [
    "torch.save(net.state_dict(), 'models/run1/full_resnet.pt')"
   ]
  },
  {
   "cell_type": "code",
   "execution_count": null,
   "id": "a28727d9",
   "metadata": {},
   "outputs": [],
   "source": []
  }
 ],
 "metadata": {
  "kernelspec": {
   "display_name": "Python 3 (ipykernel)",
   "language": "python",
   "name": "python3"
  },
  "language_info": {
   "codemirror_mode": {
    "name": "ipython",
    "version": 3
   },
   "file_extension": ".py",
   "mimetype": "text/x-python",
   "name": "python",
   "nbconvert_exporter": "python",
   "pygments_lexer": "ipython3",
   "version": "3.9.10"
  }
 },
 "nbformat": 4,
 "nbformat_minor": 5
}
