{
 "cells": [
  {
   "cell_type": "code",
   "execution_count": 1,
   "id": "85067505",
   "metadata": {},
   "outputs": [],
   "source": [
    "from project1_model import ResNet, BasicBlock \n",
    "import numpy as np, torch, torchvision \n",
    "import matplotlib.pyplot as plt\n",
    "%matplotlib inline"
   ]
  },
  {
   "cell_type": "code",
   "execution_count": 5,
   "id": "046738d0",
   "metadata": {},
   "outputs": [],
   "source": [
    "model = ResNet(BasicBlock, [2, 2, 2, 2])\n",
    "model.load_state_dict(torch.load('models/run1/full_resnet.pt', map_location=torch.device('cpu'))) \n",
    "model.eval() \n",
    "Loss = torch.nn.CrossEntropyLoss()"
   ]
  },
  {
   "cell_type": "code",
   "execution_count": 6,
   "id": "685976d0",
   "metadata": {},
   "outputs": [
    {
     "name": "stdout",
     "output_type": "stream",
     "text": [
      "Files already downloaded and verified\n",
      "10000\n"
     ]
    }
   ],
   "source": [
    "testdata = torchvision.datasets.CIFAR10('./CIFAR10/', \n",
    "                                             train=False, \n",
    "                                             download=True, \n",
    "                                             transform=torchvision.transforms.ToTensor()) \n",
    "print(len(testdata))\n",
    "\n",
    "testDataLoader = torch.utils.data.DataLoader(testdata, \n",
    "                                             batch_size=64, \n",
    "                                             shuffle=False) \n",
    "\n",
    "images, labels = iter(testDataLoader).next() "
   ]
  },
  {
   "cell_type": "code",
   "execution_count": 7,
   "id": "b1d756ff",
   "metadata": {},
   "outputs": [
    {
     "name": "stdout",
     "output_type": "stream",
     "text": [
      "Test loss 0.634 Accuracy 0.797\n"
     ]
    }
   ],
   "source": [
    "predicted_output = model(images)\n",
    "fit = Loss(predicted_output, labels)\n",
    "\n",
    "_, indices = torch.max(predicted_output, 1)\n",
    "accuracy = torch.tensor(torch.sum(indices == labels).item() / len(predicted_output))\n",
    "\n",
    "print('Test loss %.3f Accuracy %.3f'%(fit, accuracy))"
   ]
  },
  {
   "cell_type": "code",
   "execution_count": null,
   "id": "ba781ac6",
   "metadata": {},
   "outputs": [],
   "source": []
  }
 ],
 "metadata": {
  "kernelspec": {
   "display_name": "Python 3 (ipykernel)",
   "language": "python",
   "name": "python3"
  },
  "language_info": {
   "codemirror_mode": {
    "name": "ipython",
    "version": 3
   },
   "file_extension": ".py",
   "mimetype": "text/x-python",
   "name": "python",
   "nbconvert_exporter": "python",
   "pygments_lexer": "ipython3",
   "version": "3.9.10"
  }
 },
 "nbformat": 4,
 "nbformat_minor": 5
}
