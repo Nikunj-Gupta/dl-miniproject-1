{
 "cells": [
  {
   "cell_type": "code",
   "execution_count": 1,
   "id": "85067505",
   "metadata": {},
   "outputs": [],
   "source": [
    "from project1_model import ResNet, BasicBlock \n",
    "import numpy as np, torch, torchvision \n",
    "import matplotlib.pyplot as plt\n",
    "%matplotlib inline"
   ]
  },
  {
   "cell_type": "code",
   "execution_count": 2,
   "id": "046738d0",
   "metadata": {},
   "outputs": [],
   "source": [
    "model = ResNet(BasicBlock, [2, 2, 2, 2])\n",
    "model.load_state_dict(torch.load('project1_model.pt', map_location=torch.device('cpu'))) \n",
    "model.eval() \n",
    "Loss = torch.nn.CrossEntropyLoss()"
   ]
  },
  {
   "cell_type": "code",
   "execution_count": 3,
   "id": "685976d0",
   "metadata": {},
   "outputs": [
    {
     "name": "stdout",
     "output_type": "stream",
     "text": [
      "Files already downloaded and verified\n",
      "10000\n"
     ]
    },
    {
     "ename": "NameError",
     "evalue": "name 'trainDataLoader' is not defined",
     "output_type": "error",
     "traceback": [
      "\u001b[0;31m---------------------------------------------------------------------------\u001b[0m",
      "\u001b[0;31mNameError\u001b[0m                                 Traceback (most recent call last)",
      "Input \u001b[0;32mIn [3]\u001b[0m, in \u001b[0;36m<module>\u001b[0;34m\u001b[0m\n\u001b[1;32m      5\u001b[0m \u001b[38;5;28mprint\u001b[39m(\u001b[38;5;28mlen\u001b[39m(testdata))\n\u001b[1;32m      7\u001b[0m testDataLoader \u001b[38;5;241m=\u001b[39m torch\u001b[38;5;241m.\u001b[39mutils\u001b[38;5;241m.\u001b[39mdata\u001b[38;5;241m.\u001b[39mDataLoader(testdata, \n\u001b[1;32m      8\u001b[0m                                              batch_size\u001b[38;5;241m=\u001b[39m\u001b[38;5;241m64\u001b[39m, \n\u001b[1;32m      9\u001b[0m                                              shuffle\u001b[38;5;241m=\u001b[39m\u001b[38;5;28;01mFalse\u001b[39;00m) \n\u001b[0;32m---> 11\u001b[0m images, labels \u001b[38;5;241m=\u001b[39m \u001b[38;5;28miter\u001b[39m(\u001b[43mtrainDataLoader\u001b[49m)\u001b[38;5;241m.\u001b[39mnext()\n",
      "\u001b[0;31mNameError\u001b[0m: name 'trainDataLoader' is not defined"
     ]
    }
   ],
   "source": [
    "testdata = torchvision.datasets.CIFAR10('./CIFAR10/', \n",
    "                                             train=False, \n",
    "                                             download=True, \n",
    "                                             transform=torchvision.transforms.ToTensor()) \n",
    "print(len(testdata))\n",
    "\n",
    "testDataLoader = torch.utils.data.DataLoader(testdata, \n",
    "                                             batch_size=64, \n",
    "                                             shuffle=False) \n",
    "\n",
    "images, labels = iter(testDataLoader).next() "
   ]
  },
  {
   "cell_type": "code",
   "execution_count": null,
   "id": "b1d756ff",
   "metadata": {},
   "outputs": [],
   "source": [
    "predicted_output = model(images)\n",
    "fit = Loss(predicted_output, labels)\n",
    "\n",
    "_, indices = torch.max(predicted_output, 1)\n",
    "accuracy = torch.tensor(torch.sum(indices == labels).item() / len(predicted_output))\n",
    "\n",
    "print('Test loss %.3f Accuracy %.3f'%(fit, accuracy))"
   ]
  }
 ],
 "metadata": {
  "kernelspec": {
   "display_name": "Python 3 (ipykernel)",
   "language": "python",
   "name": "python3"
  },
  "language_info": {
   "codemirror_mode": {
    "name": "ipython",
    "version": 3
   },
   "file_extension": ".py",
   "mimetype": "text/x-python",
   "name": "python",
   "nbconvert_exporter": "python",
   "pygments_lexer": "ipython3",
   "version": "3.9.10"
  }
 },
 "nbformat": 4,
 "nbformat_minor": 5
}
