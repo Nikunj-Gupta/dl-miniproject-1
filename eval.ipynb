{
 "cells": [
  {
   "cell_type": "code",
   "execution_count": 1,
   "id": "853e2565",
   "metadata": {},
   "outputs": [],
   "source": [
    "from project1_model import ResNet, BasicBlock \n",
    "import numpy as np, torch, torchvision \n",
    "import matplotlib.pyplot as plt\n",
    "%matplotlib inline"
   ]
  },
  {
   "cell_type": "code",
   "execution_count": 2,
   "id": "569ef8ce",
   "metadata": {},
   "outputs": [],
   "source": [
    "model = ResNet(BasicBlock, [2, 2, 2, 2])\n",
    "model.load_state_dict(torch.load('project1_model.pt', map_location=torch.device('cpu'))) \n",
    "model.eval() \n",
    "Loss = torch.nn.CrossEntropyLoss()"
   ]
  },
  {
   "cell_type": "code",
   "execution_count": 3,
   "id": "df4bdc88",
   "metadata": {},
   "outputs": [
    {
     "name": "stdout",
     "output_type": "stream",
     "text": [
      "Files already downloaded and verified\n",
      "10000\n"
     ]
    }
   ],
   "source": [
    "testdata = torchvision.datasets.CIFAR10('./CIFAR10/', \n",
    "                                             train=False, \n",
    "                                             download=True, \n",
    "                                             transform=torchvision.transforms.ToTensor()) \n",
    "print(len(testdata))\n",
    "\n",
    "testDataLoader = torch.utils.data.DataLoader(testdata, \n",
    "                                             batch_size=64, \n",
    "                                             shuffle=False) \n",
    "\n",
    "images, labels = iter(testDataLoader).next() "
   ]
  },
  {
   "cell_type": "code",
   "execution_count": 4,
   "id": "f641433e",
   "metadata": {},
   "outputs": [],
   "source": [
    "EPOCHS = 2 "
   ]
  },
  {
   "cell_type": "code",
   "execution_count": null,
   "id": "43b70e9b",
   "metadata": {},
   "outputs": [
    {
     "name": "stdout",
     "output_type": "stream",
     "text": [
      "Epoch 0, Test loss 3.0217744028492337, Accuracy tensor(0.2500)\n"
     ]
    }
   ],
   "source": [
    "test_loss_history = []\n",
    "accuracy_history = []\n",
    "\n",
    "for epoch in range(EPOCHS):\n",
    "    test_loss = 0.0\n",
    "    for i, data in enumerate(testDataLoader): \n",
    "        with torch.no_grad():\n",
    "            images, labels = data\n",
    "            images = images \n",
    "            labels = labels \n",
    "            predicted_output = model(images)\n",
    "            fit = Loss(predicted_output,labels)\n",
    "            test_loss += fit.item()\n",
    "    test_loss = test_loss/len(testDataLoader)\n",
    "    test_loss_history.append(test_loss)\n",
    "    _, indices = torch.max(predicted_output, 1)\n",
    "    accuracy = torch.tensor(torch.sum(indices == labels).item() / len(predicted_output))\n",
    "    accuracy_history.append(accuracy) \n",
    "    print('Epoch %s, Test loss %s, Accuracy %s'%(epoch, test_loss, accuracy)) "
   ]
  },
  {
   "cell_type": "code",
   "execution_count": null,
   "id": "1a6c6852",
   "metadata": {},
   "outputs": [],
   "source": [
    "plt.plot(range(EPOCHS),test_loss_history,'-',linewidth=3,label='Test error')\n",
    "plt.xlabel('epoch')\n",
    "plt.ylabel('loss')\n",
    "plt.grid(True)\n",
    "plt.legend()"
   ]
  },
  {
   "cell_type": "code",
   "execution_count": null,
   "id": "1be01203",
   "metadata": {
    "scrolled": false
   },
   "outputs": [],
   "source": [
    "plt.plot(range(EPOCHS),accuracy_history,'-',linewidth=3,label='Accuracy')\n",
    "plt.xlabel('epoch')\n",
    "plt.ylabel('accuracy')\n",
    "plt.grid(True)\n",
    "plt.legend()"
   ]
  },
  {
   "cell_type": "code",
   "execution_count": null,
   "id": "905a040c",
   "metadata": {},
   "outputs": [],
   "source": [
    "predicted_output = model(images)\n",
    "print(torch.max(predicted_output, 1))\n",
    "fit = Loss(predicted_output, labels)\n",
    "print(labels)\n",
    "print(fit)"
   ]
  },
  {
   "cell_type": "code",
   "execution_count": null,
   "id": "8adfb166",
   "metadata": {},
   "outputs": [],
   "source": [
    "_, indices = torch.max(predicted_output, 1)\n",
    "accuracy = torch.tensor(torch.sum(indices == labels).item() / len(predicted_output))\n",
    "print('accuracy', accuracy) "
   ]
  },
  {
   "cell_type": "code",
   "execution_count": null,
   "id": "9c3baaad",
   "metadata": {},
   "outputs": [],
   "source": []
  }
 ],
 "metadata": {
  "kernelspec": {
   "display_name": "Python 3 (ipykernel)",
   "language": "python",
   "name": "python3"
  },
  "language_info": {
   "codemirror_mode": {
    "name": "ipython",
    "version": 3
   },
   "file_extension": ".py",
   "mimetype": "text/x-python",
   "name": "python",
   "nbconvert_exporter": "python",
   "pygments_lexer": "ipython3",
   "version": "3.9.10"
  }
 },
 "nbformat": 4,
 "nbformat_minor": 5
}
